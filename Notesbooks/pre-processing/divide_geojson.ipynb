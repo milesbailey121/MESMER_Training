{
 "cells": [
  {
   "cell_type": "code",
   "execution_count": null,
   "metadata": {},
   "outputs": [],
   "source": [
    "import json\n",
    "import os\n",
    "import numpy as np"
   ]
  },
  {
   "cell_type": "code",
   "execution_count": null,
   "metadata": {},
   "outputs": [],
   "source": [
    "# Load your JSON data from a file\n",
    "data = []\n",
    "\n",
    "path_to_json_files = r'C:\\Users\\miles\\GitHub\\MESMER_training\\raw_data\\mem_nuc_json'\n",
    "\n",
    "# Get all JSON file names as a list\n",
    "json_file_names = [filename for filename in os.listdir(path_to_json_files) if filename.endswith('.geojson')]\n",
    "\n",
    "for json_file_name in json_file_names:\n",
    "    with open(os.path.join(path_to_json_files, json_file_name)) as json_file:\n",
    "        data.append(json.load(json_file))"
   ]
  },
  {
   "cell_type": "code",
   "execution_count": null,
   "metadata": {},
   "outputs": [],
   "source": [
    "nuclei_data = []\n",
    "membrane_data = []\n",
    "for item in data:\n",
    "    for feature in item[\"features\"]:\n",
    "        if \"properties\" in feature and \"classification\" in feature[\"properties\"]:\n",
    "            classification_name = feature[\"properties\"][\"classification\"][\"name\"]\n",
    "            if classification_name == \"nuclei\":\n",
    "                nuclei_data.append(feature)\n",
    "            elif classification_name == \"membrane\":\n",
    "                membrane_data.append(feature)\n",
    "            elif classification_name== \"cell membrane\":\n",
    "                membrane_data.append(feature)\n"
   ]
  },
  {
   "cell_type": "code",
   "execution_count": null,
   "metadata": {},
   "outputs": [],
   "source": [
    "nuclei_data = {key: [] for key in json_file_names}\n",
    "membrane_data = {key: [] for key in json_file_names}\n",
    "empty_dict = {key: [] for key in json_file_names}"
   ]
  },
  {
   "cell_type": "code",
   "execution_count": null,
   "metadata": {},
   "outputs": [],
   "source": [
    "count = 0\n",
    "for item in data:\n",
    "    for feature in item[\"features\"]:\n",
    "        if \"properties\" in feature and \"classification\" in feature[\"properties\"]:\n",
    "            classification_name = feature[\"properties\"][\"classification\"].get(\"name\", \"\")\n",
    "            #print(\"Classification Name:\", classification_name)  # Debug print\n",
    "            if classification_name.lower() == \"nuclei\":\n",
    "                nuclei_data[json_file_names[count]].append(feature)\n",
    "            elif classification_name.lower() == \"cell membrane\":\n",
    "                membrane_data[json_file_names[count]].append(feature)\n",
    "            else:\n",
    "                empty_dict[json_file_names[count]].append(feature)\n",
    "    count += 1\n",
    "\n",
    "\n",
    "# Add debug prints\n",
    "print(\"\\nNuclei Data:\")\n",
    "print(json.dumps(nuclei_data, indent=2))\n",
    "\n",
    "print(\"\\nMembrane Data:\")\n",
    "print(json.dumps(membrane_data, indent=2))"
   ]
  },
  {
   "cell_type": "code",
   "execution_count": null,
   "metadata": {},
   "outputs": [],
   "source": [
    "\n",
    "for items in nuclei_data:\n",
    "    if nuclei_data.get(items) == []:\n",
    "        print(f\"The key '{items}' is empty.\")\n",
    "    else:\n",
    "        print(f\"The key '{items}' is not empty.\")"
   ]
  },
  {
   "cell_type": "code",
   "execution_count": null,
   "metadata": {},
   "outputs": [],
   "source": [
    "\n",
    "for items in membrane_data:\n",
    "    if membrane_data.get(items) == []:\n",
    "        print(f\"The key '{items}' is empty.\")\n",
    "    else:\n",
    "        print(f\"The key '{items}' is not empty.\")"
   ]
  },
  {
   "cell_type": "code",
   "execution_count": null,
   "metadata": {},
   "outputs": [],
   "source": [
    "for items in empty_dict:\n",
    "    if empty_dict.get(items) == []:\n",
    "        print(f\"The key '{items}' is empty.\")\n",
    "    else:\n",
    "        print(f\"The key '{items}' is not empty.\")"
   ]
  },
  {
   "cell_type": "code",
   "execution_count": null,
   "metadata": {},
   "outputs": [],
   "source": [
    "# Save the divided data to separate files or use as needed\n",
    "\n",
    "for items in membrane_data:\n",
    "    if membrane_data.get(items) == []:\n",
    "        print(f\"The key '{items}' is empty.\")\n",
    "    else:\n",
    "        with open(f'membrane_data_{items}', 'w') as membrane_file:\n",
    "            json.dump({\"type\": \"FeatureCollection\", \"features\": membrane_data[items]}, membrane_file, indent=2)\n",
    "\n",
    "for items in nuclei_data:\n",
    "    if nuclei_data.get(items) == []:\n",
    "        print(f\"The key '{items}' is empty.\")\n",
    "    else:\n",
    "        with open(f'nuclei_data_{items}', 'w') as nuclei_file:\n",
    "            json.dump({\"type\": \"FeatureCollection\", \"features\": nuclei_data[items]}, nuclei_file, indent=2)\n"
   ]
  }
 ],
 "metadata": {
  "kernelspec": {
   "display_name": ".venv",
   "language": "python",
   "name": "python3"
  },
  "language_info": {
   "codemirror_mode": {
    "name": "ipython",
    "version": 3
   },
   "file_extension": ".py",
   "mimetype": "text/x-python",
   "name": "python",
   "nbconvert_exporter": "python",
   "pygments_lexer": "ipython3",
   "version": "3.10.11"
  }
 },
 "nbformat": 4,
 "nbformat_minor": 2
}
